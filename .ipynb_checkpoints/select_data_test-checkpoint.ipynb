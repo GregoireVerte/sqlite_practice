{
 "cells": [
  {
   "cell_type": "code",
   "execution_count": 1,
   "id": "2ac68bfd-4c78-4633-b7cc-2aa53d4c36fc",
   "metadata": {},
   "outputs": [],
   "source": [
    "from select_data import *"
   ]
  },
  {
   "cell_type": "code",
   "execution_count": 3,
   "id": "856a94bc-46b5-46ec-8f4f-fc3b63a43e55",
   "metadata": {},
   "outputs": [],
   "source": [
    "conn = create_connection(\"dbtask_file.db\")"
   ]
  },
  {
   "cell_type": "code",
   "execution_count": 5,
   "id": "39c11a68-667e-40f9-aba1-9a5ac5eebef4",
   "metadata": {},
   "outputs": [
    {
     "data": {
      "text/plain": [
       "[(1, 'Surowiec 1', 'Zastosowanie 1', '2026-01-20 00:00:00'),\n",
       " (2, 'Surowiec 2', 'Zastosowanie 2', '2027-01-20 00:00:00')]"
      ]
     },
     "execution_count": 5,
     "metadata": {},
     "output_type": "execute_result"
    }
   ],
   "source": [
    "select_all(conn, \"raw_material\")  # wszystkie raw_materials"
   ]
  },
  {
   "cell_type": "code",
   "execution_count": 7,
   "id": "e1a058cc-68fa-49cc-8435-4b09ebb4a977",
   "metadata": {},
   "outputs": [
    {
     "data": {
      "text/plain": [
       "[(1,\n",
       "  1,\n",
       "  'Badanie 1',\n",
       "  'Opis 1',\n",
       "  'started',\n",
       "  '2024-06-11 12:00:00',\n",
       "  '2025-01-11 15:00:00'),\n",
       " (2,\n",
       "  2,\n",
       "  'Badanie 2',\n",
       "  'Opis 2',\n",
       "  'ended',\n",
       "  '2025-06-11 12:00:00',\n",
       "  '2025-12-30 15:00:00')]"
      ]
     },
     "execution_count": 7,
     "metadata": {},
     "output_type": "execute_result"
    }
   ],
   "source": [
    "select_all(conn, \"lab_test\")  # wszystkie laboratory tests"
   ]
  },
  {
   "cell_type": "code",
   "execution_count": 9,
   "id": "c4daf233-7a7a-4d58-be61-fbf075a1b35b",
   "metadata": {},
   "outputs": [
    {
     "data": {
      "text/plain": [
       "[(2,\n",
       "  2,\n",
       "  'Badanie 2',\n",
       "  'Opis 2',\n",
       "  'ended',\n",
       "  '2025-06-11 12:00:00',\n",
       "  '2025-12-30 15:00:00')]"
      ]
     },
     "execution_count": 9,
     "metadata": {},
     "output_type": "execute_result"
    }
   ],
   "source": [
    "select_where(conn, \"lab_test\", mat_id=2)"
   ]
  },
  {
   "cell_type": "code",
   "execution_count": 11,
   "id": "2d63cbcf-31b3-4cb4-9ea3-30cfa8957da1",
   "metadata": {},
   "outputs": [
    {
     "data": {
      "text/plain": [
       "[(1,\n",
       "  1,\n",
       "  'Badanie 1',\n",
       "  'Opis 1',\n",
       "  'started',\n",
       "  '2024-06-11 12:00:00',\n",
       "  '2025-01-11 15:00:00')]"
      ]
     },
     "execution_count": 11,
     "metadata": {},
     "output_type": "execute_result"
    }
   ],
   "source": [
    "select_where(conn, \"lab_test\", status=\"started\")"
   ]
  },
  {
   "cell_type": "code",
   "execution_count": 13,
   "id": "cadbc361-d9d5-49de-a473-d6c4da7ce1b0",
   "metadata": {},
   "outputs": [
    {
     "data": {
      "text/plain": [
       "[(2,\n",
       "  2,\n",
       "  'Badanie 2',\n",
       "  'Opis 2',\n",
       "  'ended',\n",
       "  '2025-06-11 12:00:00',\n",
       "  '2025-12-30 15:00:00')]"
      ]
     },
     "execution_count": 13,
     "metadata": {},
     "output_type": "execute_result"
    }
   ],
   "source": [
    "select_lab_test_by_status(conn, status='ended')"
   ]
  },
  {
   "cell_type": "code",
   "execution_count": null,
   "id": "bc690143-f739-4848-a16d-623e1f3f3b28",
   "metadata": {},
   "outputs": [],
   "source": []
  }
 ],
 "metadata": {
  "kernelspec": {
   "display_name": "Python 3 (ipykernel)",
   "language": "python",
   "name": "python3"
  },
  "language_info": {
   "codemirror_mode": {
    "name": "ipython",
    "version": 3
   },
   "file_extension": ".py",
   "mimetype": "text/x-python",
   "name": "python",
   "nbconvert_exporter": "python",
   "pygments_lexer": "ipython3",
   "version": "3.12.7"
  }
 },
 "nbformat": 4,
 "nbformat_minor": 5
}
